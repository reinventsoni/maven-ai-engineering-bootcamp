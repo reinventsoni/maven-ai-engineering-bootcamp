{
 "cells": [
  {
   "cell_type": "markdown",
   "id": "76e70da0",
   "metadata": {},
   "source": [
    "# LLM APIs - Showcase and Checks"
   ]
  },
  {
   "cell_type": "markdown",
   "id": "c630e63c",
   "metadata": {},
   "source": [
    "## OpenAI Client"
   ]
  },
  {
   "cell_type": "code",
   "execution_count": 11,
   "id": "a0349991",
   "metadata": {},
   "outputs": [],
   "source": [
    "# Cell to import all the dependencies\n",
    "import os\n",
    "from openai import OpenAI\n",
    "from google import genai"
   ]
  },
  {
   "cell_type": "code",
   "execution_count": 3,
   "id": "15d7438f",
   "metadata": {},
   "outputs": [],
   "source": [
    "api_key = os.getenv(\"OPENAI_API_KEY\")\n",
    "if not api_key:\n",
    "    print(\"OPENAI_API_KEY is not set\")\n",
    "    api_key = input(\"Please enter your OpenAI API key: \").strip()\n",
    "    os.environ[\"OPENAI_API_KEY\"] = api_key\n",
    "    if not api_key:\n",
    "        raise EnvironmentError(\"OPENAI_API_KEY is not set. No API Key Provided\")\n"
   ]
  },
  {
   "cell_type": "code",
   "execution_count": 7,
   "id": "3de50df2",
   "metadata": {},
   "outputs": [
    {
     "name": "stdout",
     "output_type": "stream",
     "text": [
      "The Moon does not have a capital, as it is not a political entity or country. The Moon is a natural satellite of Earth and does not have its own government or administrative divisions. If you have any other questions about the Moon or space, feel free to ask!\n"
     ]
    }
   ],
   "source": [
    "client = OpenAI()\n",
    "response = client.chat.completions.create(\n",
    "    model=\"gpt-4o-mini\",\n",
    "    messages=[\n",
    "        {\"role\": \"system\", \"content\": \"You are a helpful assistant.\"},\n",
    "        {\"role\": \"user\", \"content\": \"What is the capital of the moon?\"}\n",
    "    ]\n",
    ")\n",
    "\n",
    "print(response.choices[0].message.content)\n"
   ]
  },
  {
   "cell_type": "markdown",
   "id": "0f37d362",
   "metadata": {},
   "source": [
    "## Gemini Client"
   ]
  },
  {
   "cell_type": "code",
   "execution_count": 8,
   "id": "4bca70d1",
   "metadata": {},
   "outputs": [],
   "source": [
    "api_key = os.getenv(\"GOOGLE_API_KEY\")\n",
    "if not api_key:\n",
    "    print(\"GOOGLE_API_KEY is not set\")\n",
    "    api_key = input(\"Please enter your Google API key: \").strip()\n",
    "    os.environ[\"GOOGLE_API_KEY\"] = api_key\n",
    "    if not api_key:\n",
    "        raise EnvironmentError(\"GOOGLE_API_KEY is not set. No API Key Provided\")"
   ]
  },
  {
   "cell_type": "code",
   "execution_count": 13,
   "id": "00b20451",
   "metadata": {},
   "outputs": [
    {
     "name": "stdout",
     "output_type": "stream",
     "text": [
      "Okay, here are 15 random words:\n",
      "\n",
      "1.  Ubiquitous\n",
      "2.  Serendipity\n",
      "3.  Ephemeral\n",
      "4.  Mellifluous\n",
      "5.  Quixotic\n",
      "6.  Zephyr\n",
      "7.  Labyrinth\n",
      "8.  Phantasmagoria\n",
      "9.  Ethereal\n",
      "10. Nebulous\n",
      "11. Petrichor\n",
      "12. Sycophant\n",
      "13. Effervescent\n",
      "14. Ennui\n",
      "15. Bombastic\n",
      "\n"
     ]
    }
   ],
   "source": [
    "gemini_client = genai.Client()\n",
    "response = gemini_client.models.generate_content(\n",
    "    model=\"gemini-2.0-flash\",\n",
    "    contents=[\"You are a helpful assistant, Can you print 15 random words\"],\n",
    ")\n",
    "\n",
    "print(response.text)"
   ]
  },
  {
   "cell_type": "markdown",
   "id": "f775f390",
   "metadata": {},
   "source": [
    "## GROQ CLient"
   ]
  },
  {
   "cell_type": "code",
   "execution_count": 20,
   "id": "49b91ed7",
   "metadata": {},
   "outputs": [],
   "source": [
    "groq_api_key = os.getenv(\"GROQ_API_KEY\")\n",
    "if not groq_api_key:\n",
    "    print(\"GROQ_API_KEY is not set\")\n",
    "    groq_api_key = input(\"Please enter your GROQ API key: \").strip()\n",
    "    os.environ[\"GROQ_API_KEY\"] = groq_api_key\n",
    "    if not groq_api_key:\n",
    "        raise EnvironmentError(\"GROQ_API_KEY is not set. No API Key Provided\")\n",
    "        "
   ]
  },
  {
   "cell_type": "code",
   "execution_count": 22,
   "id": "e266e06d",
   "metadata": {},
   "outputs": [],
   "source": [
    "from groq import Groq"
   ]
  },
  {
   "cell_type": "code",
   "execution_count": 24,
   "id": "f129ccff",
   "metadata": {},
   "outputs": [
    {
     "name": "stdout",
     "output_type": "stream",
     "text": [
      "The Moon does not have a capital city. The Moon is a natural satellite of Earth and does not have a government or permanent human settlements, so it does not have a capital city. While there have been several manned missions to the Moon, no one has established a permanent human presence or a government on the Moon.\n"
     ]
    }
   ],
   "source": [
    "client=Groq()\n",
    "response=client.chat.completions.create(\n",
    "    model=\"llama-3.3-70b-versatile\",\n",
    "    messages=[\n",
    "        {\"role\": \"system\", \"content\": \"You are a helpful assistant.\"},\n",
    "        {\"role\": \"user\", \"content\": \"What is the capital of the moon?\"}\n",
    "    ]\n",
    ")\n",
    "\n",
    "print(response.choices[0].message.content)"
   ]
  }
 ],
 "metadata": {
  "kernelspec": {
   "display_name": ".venv",
   "language": "python",
   "name": "python3"
  },
  "language_info": {
   "codemirror_mode": {
    "name": "ipython",
    "version": 3
   },
   "file_extension": ".py",
   "mimetype": "text/x-python",
   "name": "python",
   "nbconvert_exporter": "python",
   "pygments_lexer": "ipython3",
   "version": "3.12.3"
  }
 },
 "nbformat": 4,
 "nbformat_minor": 5
}
